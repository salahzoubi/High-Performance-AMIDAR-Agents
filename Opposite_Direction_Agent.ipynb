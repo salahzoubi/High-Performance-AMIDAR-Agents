{
 "cells": [
  {
   "cell_type": "code",
   "execution_count": 25,
   "metadata": {},
   "outputs": [],
   "source": [
    "from toybox.interventions.amidar import *\n",
    "from toybox.interventions.base import *\n",
    "from toybox.interventions.core import * \n",
    "from toybox import Toybox, Input\n",
    "\n",
    "import numpy as np\n",
    "import math\n",
    "from matplotlib.pyplot import imshow, subplots, tight_layout\n",
    "import random"
   ]
  },
  {
   "cell_type": "code",
   "execution_count": 26,
   "metadata": {},
   "outputs": [],
   "source": [
    "def calc_distance(one, two):\n",
    "    \n",
    "    return abs(one.tx -  two.tx) + abs(one.ty - two.ty)"
   ]
  },
  {
   "cell_type": "code",
   "execution_count": 53,
   "metadata": {},
   "outputs": [],
   "source": [
    "def opposite_dir(move): #returns an input object with the opposite direction\n",
    "    \n",
    "    if move.up:\n",
    "        move.up, move.down = False, True\n",
    "    elif move.down:\n",
    "        move.down, move.up = False, True\n",
    "    elif move.right:\n",
    "        move.right, move.left = False, True\n",
    "    elif move.left:\n",
    "        move.left, move.right = False, True\n",
    "    \n",
    "    return move"
   ]
  },
  {
   "cell_type": "code",
   "execution_count": null,
   "metadata": {},
   "outputs": [],
   "source": [
    "move = Input()\n",
    "move.up = True\n",
    "\n",
    "frames = []\n",
    "\n",
    "\n",
    "with Toybox('amidar') as tb:    \n",
    "    \n",
    "    for i in range(300):\n",
    "        tb.apply_action(move)\n",
    "        \n",
    "        \n",
    "        if i % 25 == 0 and i > 0 :\n",
    "            with AmidarIntervention(tb) as intervention: \n",
    "\n",
    "                    game = intervention.game\n",
    "\n",
    "                    player_pos = intervention.worldpoint_to_tilepoint(game.player.position)            \n",
    "                    enemy_pos_0 = intervention.worldpoint_to_tilepoint(game.enemies[0].position)\n",
    "                    enemy_pos_1 = intervention.worldpoint_to_tilepoint(game.enemies[1].position) \n",
    "                    enemy_pos_2 = intervention.worldpoint_to_tilepoint(game.enemies[2].position)  \n",
    "                    enemy_pos_3 = intervention.worldpoint_to_tilepoint(game.enemies[3].position) \n",
    "\n",
    "                                    #Returns the Manhattan distance of the closest enemy to the agent\n",
    "                    closest_dist = min(calc_distance(player_pos, enemy_pos_0), calc_distance(player_pos, enemy_pos_1), \n",
    "                                            calc_distance(player_pos, enemy_pos_2), calc_distance(player_pos, enemy_pos_3))\n",
    "\n",
    "                    if closest_dist <= 30:\n",
    "                        move = opposite_dir(move)\n",
    "\n",
    "                    print(player_pos)\n",
    "                    frames.append(tb.get_rgb_frame())\n",
    "\n",
    "\n",
    "\n",
    "        \n",
    "subplots(figsize=(len(frames)*3, 4))\n",
    "imshow(np.hstack(frames))\n",
    "tight_layout() # makes it a little bigger."
   ]
  },
  {
   "cell_type": "code",
   "execution_count": null,
   "metadata": {},
   "outputs": [],
   "source": []
  }
 ],
 "metadata": {
  "kernelspec": {
   "display_name": "Python 3",
   "language": "python",
   "name": "python3"
  },
  "language_info": {
   "codemirror_mode": {
    "name": "ipython",
    "version": 3
   },
   "file_extension": ".py",
   "mimetype": "text/x-python",
   "name": "python",
   "nbconvert_exporter": "python",
   "pygments_lexer": "ipython3",
   "version": "3.7.4"
  }
 },
 "nbformat": 4,
 "nbformat_minor": 2
}
