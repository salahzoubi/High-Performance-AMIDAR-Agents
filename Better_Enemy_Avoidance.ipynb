{
 "cells": [
  {
   "cell_type": "code",
   "execution_count": 1,
   "metadata": {},
   "outputs": [
    {
     "name": "stdout",
     "output_type": "stream",
     "text": [
      "Registered Toybox environments with gym.\n"
     ]
    }
   ],
   "source": [
    "from toybox.interventions.amidar import *\n",
    "from toybox.interventions.breakout import *\n",
    "from toybox.interventions.base import *\n",
    "from toybox.interventions.core import * \n",
    "from toybox import Toybox, Input\n",
    "\n",
    "import numpy as np\n",
    "import math\n",
    "from matplotlib.pyplot import imshow, subplots, tight_layout\n",
    "import random"
   ]
  },
  {
   "cell_type": "code",
   "execution_count": 2,
   "metadata": {},
   "outputs": [],
   "source": [
    "def calc_distance(one, two):\n",
    "    \n",
    "    return abs(one.tx -  two.tx) + abs(one.ty - two.ty)"
   ]
  },
  {
   "cell_type": "code",
   "execution_count": null,
   "metadata": {},
   "outputs": [],
   "source": []
  }
 ],
 "metadata": {
  "kernelspec": {
   "display_name": "Python 3",
   "language": "python",
   "name": "python3"
  },
  "language_info": {
   "codemirror_mode": {
    "name": "ipython",
    "version": 3
   },
   "file_extension": ".py",
   "mimetype": "text/x-python",
   "name": "python",
   "nbconvert_exporter": "python",
   "pygments_lexer": "ipython3",
   "version": "3.7.4"
  }
 },
 "nbformat": 4,
 "nbformat_minor": 2
}
